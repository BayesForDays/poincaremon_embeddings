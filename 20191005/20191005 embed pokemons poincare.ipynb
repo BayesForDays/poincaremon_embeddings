{
 "cells": [
  {
   "cell_type": "code",
   "execution_count": 1,
   "metadata": {},
   "outputs": [],
   "source": [
    "from gensim.models.poincare import PoincareModel"
   ]
  },
  {
   "cell_type": "code",
   "execution_count": 2,
   "metadata": {},
   "outputs": [],
   "source": [
    "import json"
   ]
  },
  {
   "cell_type": "code",
   "execution_count": 3,
   "metadata": {},
   "outputs": [],
   "source": [
    "mons = json.load(open('./pokedex.json', 'r'))"
   ]
  },
  {
   "cell_type": "code",
   "execution_count": 4,
   "metadata": {},
   "outputs": [
    {
     "data": {
      "text/plain": [
       "{'num': 1,\n",
       " 'species': 'Bulbasaur',\n",
       " 'types': ['Grass', 'Poison'],\n",
       " 'genderRatio': {'M': 0.875, 'F': 0.125},\n",
       " 'baseStats': {'hp': 45,\n",
       "  'atk': 49,\n",
       "  'def': 49,\n",
       "  'spa': 65,\n",
       "  'spd': 65,\n",
       "  'spe': 45},\n",
       " 'abilities': {'0': 'Overgrow', 'H': 'Chlorophyll'},\n",
       " 'heightm': 0.7,\n",
       " 'weightkg': 6.9,\n",
       " 'color': 'Green',\n",
       " 'evos': ['ivysaur'],\n",
       " 'eggGroups': ['Monster', 'Grass']}"
      ]
     },
     "execution_count": 4,
     "metadata": {},
     "output_type": "execute_result"
    }
   ],
   "source": [
    "mons['bulbasaur']"
   ]
  },
  {
   "cell_type": "code",
   "execution_count": 21,
   "metadata": {},
   "outputs": [],
   "source": [
    "features_to_embed = ['types', 'abilities', 'eggGroups']#, 'evos', 'prevo']\n",
    "tuples = []\n",
    "for mon in mons:\n",
    "    features = mons[mon]\n",
    "    for feature in features_to_embed:\n",
    "        if feature not in features:\n",
    "            t_ = (mon, feature + '_none')\n",
    "        else:\n",
    "            if feature=='abilities':\n",
    "                for ability in features[feature]:\n",
    "                    t_ = (\"mon_\" + mon, feature + f\"_{features[feature][ability]}\")\n",
    "                    tuples.append(t_)\n",
    "            elif feature=='types':\n",
    "                for type_ in features[feature]:\n",
    "                    t_ = (\"mon_\" + mon, feature + f\"_{type_}\")\n",
    "                    tuples.append(t_)\n",
    "            elif feature=='eggGroups':\n",
    "                for eg in features[feature]:\n",
    "                    t_ = (\"mon_\" + mon, feature + f\"_{eg}\")\n",
    "                    tuples.append(t_)\n",
    "            elif feature=='evos':\n",
    "                for evo in features[feature]:\n",
    "                    t_ = (\"mon_\" + mon, feature + f\"_{evo}\")\n",
    "                    tuples.append(t_)\n",
    "            elif feature=='prevo':\n",
    "                t_ = (\"mon_\" + mon, feature + f\"_{features[feature]}\")\n",
    "                tuples.append(t_)"
   ]
  },
  {
   "cell_type": "code",
   "execution_count": 22,
   "metadata": {},
   "outputs": [],
   "source": [
    "m = PoincareModel(tuples, negative=2)"
   ]
  },
  {
   "cell_type": "code",
   "execution_count": 23,
   "metadata": {},
   "outputs": [],
   "source": [
    "m.train(epochs=50)"
   ]
  },
  {
   "cell_type": "code",
   "execution_count": 24,
   "metadata": {},
   "outputs": [
    {
     "data": {
      "text/plain": [
       "0.24416430405505612"
      ]
     },
     "execution_count": 24,
     "metadata": {},
     "output_type": "execute_result"
    }
   ],
   "source": [
    "m.kv.similarity('mon_bulbasaur', 'mon_oddish')"
   ]
  },
  {
   "cell_type": "code",
   "execution_count": 25,
   "metadata": {},
   "outputs": [
    {
     "data": {
      "text/plain": [
       "[('mon_vileplume', 1.527901958909077),\n",
       " ('mon_leafeon', 1.6365436019455757),\n",
       " ('mon_bellsprout', 1.6736259718801738),\n",
       " ('mon_lurantistotem', 1.7763592138866922),\n",
       " ('mon_lurantis', 1.8918163822839247),\n",
       " ('mon_tangrowth', 1.964024935994704),\n",
       " ('mon_fomantis', 2.0416799537426304),\n",
       " ('mon_seedot', 2.224381072816299),\n",
       " ('mon_cherubi', 2.237522922478784),\n",
       " ('mon_jumpluff', 2.295924542723232),\n",
       " ('mon_tsareena', 2.3312462093569444),\n",
       " ('mon_bounsweet', 2.4489402365075508),\n",
       " ('mon_tangela', 2.4552734750584975),\n",
       " ('mon_weepinbell', 2.519384453206528),\n",
       " ('mon_petilil', 2.5455799882679124),\n",
       " ('mon_victreebel', 2.546554560686332),\n",
       " ('mon_bayleef', 2.642968195157647),\n",
       " ('mon_chikorita', 2.68522509178155),\n",
       " ('mon_skiploom', 2.6937080892760803),\n",
       " ('mon_lilligant', 2.7068262851749125),\n",
       " ('mon_steenee', 2.7133984278696013),\n",
       " ('mon_sunkern', 2.7530080956941227),\n",
       " ('mon_cherrimsunshine', 2.7610165597502614),\n",
       " ('mon_gloom', 2.766000704669349),\n",
       " ('mon_exeggcute', 2.78647839550798),\n",
       " ('mon_pokestarblackdoor', 2.8097907251018817),\n",
       " ('mon_amoonguss', 2.815011777922924),\n",
       " ('mon_hoppip', 2.8219016633114204),\n",
       " ('mon_exeggutor', 2.8220127093032192),\n",
       " ('mon_bellossom', 2.83304374279573),\n",
       " ('mon_sunflora', 2.914211067511419),\n",
       " ('mon_carnivine', 2.9157202137690086),\n",
       " ('mon_meganium', 2.94005318309367),\n",
       " ('mon_shiftry', 2.9858762994987003),\n",
       " ('mon_foongus', 3.0082427970030707),\n",
       " ('mon_serperior', 3.0618369098404083),\n",
       " ('mon_ivysaur', 3.0901819747773605),\n",
       " ('mon_bulbasaur', 3.09560276990576),\n",
       " ('mon_shroomish', 3.1178666666617265),\n",
       " ('mon_tropius', 3.1233040068104256),\n",
       " ('mon_servine', 3.1578060277104636),\n",
       " ('mon_venusaur', 3.1635628148014057),\n",
       " ('mon_cherrim', 3.257200885351063),\n",
       " ('mon_shaymin', 3.2725591145430886),\n",
       " ('mon_snivy', 3.302580011806074)]"
      ]
     },
     "execution_count": 25,
     "metadata": {},
     "output_type": "execute_result"
    }
   ],
   "source": [
    "[x for x in m.kv.most_similar('mon_oddish', 100) if x[0].startswith(\"mon_\")]"
   ]
  },
  {
   "cell_type": "code",
   "execution_count": 26,
   "metadata": {},
   "outputs": [
    {
     "data": {
      "text/plain": [
       "[('mon_bulbasaur', 0.0),\n",
       " ('mon_chikorita', 1.3614000635484929),\n",
       " ('mon_bayleef', 1.514831402770563),\n",
       " ('mon_meganium', 1.6667561140661555),\n",
       " ('mon_ivysaur', 1.8911924885757219),\n",
       " ('mon_venusaur', 1.9582603607312095),\n",
       " ('mon_lurantistotem', 2.2193376610032804),\n",
       " ('mon_lurantis', 2.2847363794631277),\n",
       " ('mon_serperior', 2.384464706348367),\n",
       " ('mon_leafeon', 2.5632400901965626),\n",
       " ('mon_bounsweet', 2.564210519078325),\n",
       " ('mon_tangrowth', 2.56963756743313),\n",
       " ('mon_vileplume', 2.5840888695207376),\n",
       " ('mon_turtwig', 2.6051477044011646),\n",
       " ('mon_snivy', 2.631765523566973),\n",
       " ('mon_bellsprout', 2.6341212758069914),\n",
       " ('mon_fomantis', 2.640451661152539),\n",
       " ('mon_cherubi', 2.7143474361350366),\n",
       " ('mon_grotle', 2.749140117096034),\n",
       " ('mon_lilligant', 2.7639544143648753),\n",
       " ('mon_servine', 2.7739449808437713),\n",
       " ('mon_victreebel', 2.7743758216319456),\n",
       " ('mon_sunkern', 2.790047698552014),\n",
       " ('mon_weepinbell', 2.8064600709959353),\n",
       " ('mon_petilil', 2.9101408115095855),\n",
       " ('mon_tropius', 3.0215470673761864),\n",
       " ('mon_tangela', 3.031263676741193),\n",
       " ('mon_oddish', 3.09560276990576),\n",
       " ('mon_exeggcute', 3.1109962924469716),\n",
       " ('mon_carnivine', 3.1959150539108494),\n",
       " ('mon_cherrimsunshine', 3.2018539525585874),\n",
       " ('mon_exeggutor', 3.202671182148381),\n",
       " ('mon_seedot', 3.253087340725349),\n",
       " ('mon_sunflora', 3.2806933133535088),\n",
       " ('mon_steenee', 3.303960792634088),\n",
       " ('mon_embirch', 3.328531326923182),\n",
       " ('mon_pansage', 3.332803477374225),\n",
       " ('mon_chespin', 3.36711260080303),\n",
       " ('mon_simisage', 3.3695533892835767),\n",
       " ('mon_quilladin', 3.4090036925753613),\n",
       " ('mon_tsareena', 3.4103634761809536),\n",
       " ('mon_venusaurmega', 3.4259835863489756),\n",
       " ('mon_hoppip', 3.4485103605700695),\n",
       " ('mon_amoonguss', 3.4524877705027324),\n",
       " ('mon_jumpluff', 3.4531666654783173),\n",
       " ('mon_torterra', 3.455819979287563),\n",
       " ('mon_malaconda', 3.500909108813663),\n",
       " ('mon_gloom', 3.5206885910910253),\n",
       " ('mon_maractus', 3.522589664226124),\n",
       " ('mon_pokestarblackdoor', 3.587102621271707)]"
      ]
     },
     "execution_count": 26,
     "metadata": {},
     "output_type": "execute_result"
    }
   ],
   "source": [
    "[x for x in m.kv.most_similar('mon_bulbasaur', 100) if x[0].startswith(\"mon_\")]"
   ]
  },
  {
   "cell_type": "code",
   "execution_count": 27,
   "metadata": {},
   "outputs": [
    {
     "data": {
      "text/plain": [
       "[('mon_torracat', 1.8690429449651025),\n",
       " ('mon_litten', 1.9317131423838307),\n",
       " ('mon_growlithe', 2.1314671249624784),\n",
       " ('mon_pansear', 2.174268496719758),\n",
       " ('mon_typhlosion', 2.2492248373717976),\n",
       " ('mon_combusken', 2.288423840282878),\n",
       " ('mon_simisear', 2.298727398784434),\n",
       " ('mon_braixen', 2.3100090456909115),\n",
       " ('mon_fennekin', 2.3330052439435676),\n",
       " ('mon_cyndaquil', 2.339383396174232),\n",
       " ('mon_quilava', 2.442984535610191),\n",
       " ('mon_pokestarwhitedoor', 2.4432398813513347),\n",
       " ('mon_flareon', 2.4730212136694574),\n",
       " ('mon_emboar', 2.5460390418688323),\n",
       " ('mon_torchic', 2.599770804517828),\n",
       " ('mon_arcanine', 2.7604579371222133),\n",
       " ('mon_vulpix', 2.777803780395178),\n",
       " ('mon_blaziken', 2.844426889840048),\n",
       " ('mon_zorua', 2.8666939786128096),\n",
       " ('mon_tepig', 2.8866729177621724),\n",
       " ('mon_ninetales', 2.922487011300709),\n",
       " ('mon_houndoommega', 2.961320708668094),\n",
       " ('mon_pignite', 3.0344061474512904),\n",
       " ('mon_delphox', 3.063889154085315),\n",
       " ('mon_blazikenmega', 3.0728508366626537),\n",
       " ('mon_zoroark', 3.090806858980027),\n",
       " ('mon_darmanitanzen', 3.142082699086408)]"
      ]
     },
     "execution_count": 27,
     "metadata": {},
     "output_type": "execute_result"
    }
   ],
   "source": [
    "[x for x in m.kv.most_similar('mon_incineroar', 100) if x[0].startswith(\"mon_\")]"
   ]
  },
  {
   "cell_type": "code",
   "execution_count": 28,
   "metadata": {},
   "outputs": [],
   "source": [
    "mon_vecs = [m.kv.get_vector(x) for x in m.kv.vocab if x.startswith('mon_')]"
   ]
  },
  {
   "cell_type": "code",
   "execution_count": 29,
   "metadata": {},
   "outputs": [],
   "source": [
    "import pandas as pd"
   ]
  },
  {
   "cell_type": "code",
   "execution_count": 30,
   "metadata": {},
   "outputs": [],
   "source": [
    "mon_vecs_df = pd.DataFrame(mon_vecs, index=[x for x in m.kv.vocab if x.startswith('mon_')])"
   ]
  },
  {
   "cell_type": "code",
   "execution_count": 31,
   "metadata": {},
   "outputs": [],
   "source": [
    "mon_vecs_df.to_csv(\"20191005_mon_vecs_type-egg-ability-only.txt\", sep=\"\\t\")"
   ]
  },
  {
   "cell_type": "code",
   "execution_count": 32,
   "metadata": {},
   "outputs": [],
   "source": [
    "tuples_df = pd.DataFrame(tuples)"
   ]
  },
  {
   "cell_type": "code",
   "execution_count": 33,
   "metadata": {},
   "outputs": [],
   "source": [
    "tuples_df.columns = ['mon_str', 'feature_category']"
   ]
  },
  {
   "cell_type": "code",
   "execution_count": 34,
   "metadata": {},
   "outputs": [],
   "source": [
    "tuples_df['mon'] = tuples_df['mon_str'].apply(lambda x: x.split(\"mon_\")[1])"
   ]
  },
  {
   "cell_type": "code",
   "execution_count": 35,
   "metadata": {},
   "outputs": [],
   "source": [
    "tuples_df['feature'] = tuples_df['feature_category'].apply(lambda x: x.split(\"_\")[0])"
   ]
  },
  {
   "cell_type": "code",
   "execution_count": 36,
   "metadata": {},
   "outputs": [
    {
     "data": {
      "text/html": [
       "<div>\n",
       "<style scoped>\n",
       "    .dataframe tbody tr th:only-of-type {\n",
       "        vertical-align: middle;\n",
       "    }\n",
       "\n",
       "    .dataframe tbody tr th {\n",
       "        vertical-align: top;\n",
       "    }\n",
       "\n",
       "    .dataframe thead th {\n",
       "        text-align: right;\n",
       "    }\n",
       "</style>\n",
       "<table border=\"1\" class=\"dataframe\">\n",
       "  <thead>\n",
       "    <tr style=\"text-align: right;\">\n",
       "      <th></th>\n",
       "      <th>mon_str</th>\n",
       "      <th>feature_category</th>\n",
       "      <th>mon</th>\n",
       "      <th>feature</th>\n",
       "    </tr>\n",
       "  </thead>\n",
       "  <tbody>\n",
       "    <tr>\n",
       "      <th>0</th>\n",
       "      <td>mon_bulbasaur</td>\n",
       "      <td>types_Grass</td>\n",
       "      <td>bulbasaur</td>\n",
       "      <td>types</td>\n",
       "    </tr>\n",
       "    <tr>\n",
       "      <th>1</th>\n",
       "      <td>mon_bulbasaur</td>\n",
       "      <td>types_Poison</td>\n",
       "      <td>bulbasaur</td>\n",
       "      <td>types</td>\n",
       "    </tr>\n",
       "    <tr>\n",
       "      <th>2</th>\n",
       "      <td>mon_bulbasaur</td>\n",
       "      <td>abilities_Overgrow</td>\n",
       "      <td>bulbasaur</td>\n",
       "      <td>abilities</td>\n",
       "    </tr>\n",
       "    <tr>\n",
       "      <th>3</th>\n",
       "      <td>mon_bulbasaur</td>\n",
       "      <td>abilities_Chlorophyll</td>\n",
       "      <td>bulbasaur</td>\n",
       "      <td>abilities</td>\n",
       "    </tr>\n",
       "    <tr>\n",
       "      <th>4</th>\n",
       "      <td>mon_bulbasaur</td>\n",
       "      <td>eggGroups_Monster</td>\n",
       "      <td>bulbasaur</td>\n",
       "      <td>eggGroups</td>\n",
       "    </tr>\n",
       "  </tbody>\n",
       "</table>\n",
       "</div>"
      ],
      "text/plain": [
       "         mon_str       feature_category        mon    feature\n",
       "0  mon_bulbasaur            types_Grass  bulbasaur      types\n",
       "1  mon_bulbasaur           types_Poison  bulbasaur      types\n",
       "2  mon_bulbasaur     abilities_Overgrow  bulbasaur  abilities\n",
       "3  mon_bulbasaur  abilities_Chlorophyll  bulbasaur  abilities\n",
       "4  mon_bulbasaur      eggGroups_Monster  bulbasaur  eggGroups"
      ]
     },
     "execution_count": 36,
     "metadata": {},
     "output_type": "execute_result"
    }
   ],
   "source": [
    "tuples_df.head()"
   ]
  },
  {
   "cell_type": "code",
   "execution_count": 37,
   "metadata": {},
   "outputs": [],
   "source": [
    "tuples_df['feature_val'] = tuples_df['feature_category'].apply(lambda x: x.split(\"_\")[1])"
   ]
  },
  {
   "cell_type": "code",
   "execution_count": 38,
   "metadata": {},
   "outputs": [],
   "source": [
    "tuples_df[['mon', 'feature', 'feature_val']].to_csv(\"./20191005_mon_types-abilities-egg_features.tsv\", sep=\"\\t\", index=None)"
   ]
  },
  {
   "cell_type": "code",
   "execution_count": 39,
   "metadata": {},
   "outputs": [
    {
     "data": {
      "text/html": [
       "<div>\n",
       "<style scoped>\n",
       "    .dataframe tbody tr th:only-of-type {\n",
       "        vertical-align: middle;\n",
       "    }\n",
       "\n",
       "    .dataframe tbody tr th {\n",
       "        vertical-align: top;\n",
       "    }\n",
       "\n",
       "    .dataframe thead th {\n",
       "        text-align: right;\n",
       "    }\n",
       "</style>\n",
       "<table border=\"1\" class=\"dataframe\">\n",
       "  <thead>\n",
       "    <tr style=\"text-align: right;\">\n",
       "      <th></th>\n",
       "      <th>mon_str</th>\n",
       "      <th>feature_category</th>\n",
       "      <th>mon</th>\n",
       "      <th>feature</th>\n",
       "      <th>feature_val</th>\n",
       "    </tr>\n",
       "  </thead>\n",
       "  <tbody>\n",
       "    <tr>\n",
       "      <th>0</th>\n",
       "      <td>mon_bulbasaur</td>\n",
       "      <td>types_Grass</td>\n",
       "      <td>bulbasaur</td>\n",
       "      <td>types</td>\n",
       "      <td>Grass</td>\n",
       "    </tr>\n",
       "    <tr>\n",
       "      <th>1</th>\n",
       "      <td>mon_bulbasaur</td>\n",
       "      <td>types_Poison</td>\n",
       "      <td>bulbasaur</td>\n",
       "      <td>types</td>\n",
       "      <td>Poison</td>\n",
       "    </tr>\n",
       "    <tr>\n",
       "      <th>2</th>\n",
       "      <td>mon_bulbasaur</td>\n",
       "      <td>abilities_Overgrow</td>\n",
       "      <td>bulbasaur</td>\n",
       "      <td>abilities</td>\n",
       "      <td>Overgrow</td>\n",
       "    </tr>\n",
       "    <tr>\n",
       "      <th>3</th>\n",
       "      <td>mon_bulbasaur</td>\n",
       "      <td>abilities_Chlorophyll</td>\n",
       "      <td>bulbasaur</td>\n",
       "      <td>abilities</td>\n",
       "      <td>Chlorophyll</td>\n",
       "    </tr>\n",
       "    <tr>\n",
       "      <th>4</th>\n",
       "      <td>mon_bulbasaur</td>\n",
       "      <td>eggGroups_Monster</td>\n",
       "      <td>bulbasaur</td>\n",
       "      <td>eggGroups</td>\n",
       "      <td>Monster</td>\n",
       "    </tr>\n",
       "  </tbody>\n",
       "</table>\n",
       "</div>"
      ],
      "text/plain": [
       "         mon_str       feature_category        mon    feature  feature_val\n",
       "0  mon_bulbasaur            types_Grass  bulbasaur      types        Grass\n",
       "1  mon_bulbasaur           types_Poison  bulbasaur      types       Poison\n",
       "2  mon_bulbasaur     abilities_Overgrow  bulbasaur  abilities     Overgrow\n",
       "3  mon_bulbasaur  abilities_Chlorophyll  bulbasaur  abilities  Chlorophyll\n",
       "4  mon_bulbasaur      eggGroups_Monster  bulbasaur  eggGroups      Monster"
      ]
     },
     "execution_count": 39,
     "metadata": {},
     "output_type": "execute_result"
    }
   ],
   "source": [
    "tuples_df.head()"
   ]
  },
  {
   "cell_type": "code",
   "execution_count": 40,
   "metadata": {},
   "outputs": [],
   "source": [
    "m.save(\"./20191005_poincare_embeddings_model_w_features.model\")"
   ]
  },
  {
   "cell_type": "code",
   "execution_count": null,
   "metadata": {},
   "outputs": [],
   "source": []
  }
 ],
 "metadata": {
  "kernelspec": {
   "display_name": "Python 3",
   "language": "python",
   "name": "python3"
  },
  "language_info": {
   "codemirror_mode": {
    "name": "ipython",
    "version": 3
   },
   "file_extension": ".py",
   "mimetype": "text/x-python",
   "name": "python",
   "nbconvert_exporter": "python",
   "pygments_lexer": "ipython3",
   "version": "3.7.0"
  }
 },
 "nbformat": 4,
 "nbformat_minor": 2
}
